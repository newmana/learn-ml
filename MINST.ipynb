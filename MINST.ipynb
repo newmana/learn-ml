{
 "cells": [
  {
   "cell_type": "code",
   "id": "initial_id",
   "metadata": {
    "collapsed": true
   },
   "source": [
    ""
   ],
   "outputs": [],
   "execution_count": null
  },
  {
   "metadata": {},
   "cell_type": "code",
   "source": [
    "import matplotlib.pyplot as matplotlib_pyplot\n",
    "import torch as torch\n",
    "import torch.nn as torch_nn\n",
    "import torch.optim as torch_optim\n",
    "import torch.utils.data as torch_utils_data\n",
    "import torchvision as torchvision\n",
    "\n",
    "torch.manual_seed(42)\n",
    "device = torch.device(\"cuda\" if torch.cuda.is_available() else \"cpu\")"
   ],
   "id": "e02efce5c522955",
   "outputs": [],
   "execution_count": null
  },
  {
   "metadata": {},
   "cell_type": "code",
   "source": [
    "class Autoencoder(torch_nn.Module):\n",
    "    def __init__(self):\n",
    "        super(Autoencoder, self).__init__()\n",
    "        self.encoder = torch_nn.Sequential(\n",
    "            torch_nn.Linear(784, 128),\n",
    "            torch_nn.ReLU(),\n",
    "            torch_nn.Linear(128, 64),\n",
    "            torch_nn.ReLU(),\n",
    "            torch_nn.Linear(64, 12),\n",
    "            torch_nn.ReLU(),\n",
    "            torch_nn.Linear(12, 3)\n",
    "        )\n",
    "        self.decoder = torch_nn.Sequential(\n",
    "            torch_nn.Linear(3, 12),\n",
    "            torch_nn.ReLU(),\n",
    "            torch_nn.Linear(12, 64),\n",
    "            torch_nn.ReLU(),\n",
    "            torch_nn.Linear(64, 128),\n",
    "            torch_nn.ReLU(),\n",
    "            torch_nn.Linear(128, 784),\n",
    "            torch_nn.Sigmoid()\n",
    "        )\n",
    "\n",
    "    def forward(self, x):\n",
    "        x = self.encoder(x)\n",
    "        x = self.decoder(x)\n",
    "        return x"
   ],
   "id": "f35ab8772779ac52",
   "outputs": [],
   "execution_count": null
  },
  {
   "metadata": {},
   "cell_type": "code",
   "source": [
    "# Load and preprocess the MNIST dataset\n",
    "transform = torchvision.transforms.Compose([torchvision.transforms.ToTensor()])\n",
    "train_dataset = torchvision.datasets.MNIST(root='./data', train=True, download=True, transform=transform)\n",
    "train_loader = torch.utils.data.DataLoader(train_dataset, batch_size=128, shuffle=True)\n",
    "\n",
    "# Initialize the model, loss function, and optimizer\n",
    "model = Autoencoder().to(device)\n",
    "criterion = torch_nn.MSELoss()\n",
    "optimizer = torch_optim.Adam(model.parameters())\n",
    "\n",
    "# Training loop\n",
    "num_epochs = 10\n",
    "for epoch in range(num_epochs):\n",
    "    for data in train_loader:\n",
    "        img, _ = data\n",
    "        img = img.view(img.size(0), -1).to(device)\n",
    "\n",
    "        output = model(img)\n",
    "        loss = criterion(output, img)\n",
    "\n",
    "        optimizer.zero_grad()\n",
    "        loss.backward()\n",
    "        optimizer.step()\n",
    "\n",
    "    print(f'Epoch [{epoch + 1}/{num_epochs}], Loss: {loss.item():.4f}')\n",
    "\n",
    "# Test the autoencoder\n",
    "model.eval()\n",
    "with torch.no_grad():\n",
    "    test_dataset = torchvision.datasets.MNIST(root='./data', train=False, transform=transform)\n",
    "    test_img = test_dataset[0][0].view(-1, 28 * 28).to(device)\n",
    "    output = model(test_img).cpu()"
   ],
   "id": "686bb9cff70c83d6",
   "outputs": [],
   "execution_count": null
  },
  {
   "metadata": {},
   "cell_type": "code",
   "source": [
    "test_image_result = test_img.cpu().view(28, 28)\n",
    "output_image_result = output.view(28, 28)"
   ],
   "id": "ad9bd6dac21c8e53",
   "outputs": [],
   "execution_count": null
  },
  {
   "metadata": {},
   "cell_type": "code",
   "source": [
    "fig, axes = matplotlib_pyplot.subplots(1, 2, figsize=(10, 5))\n",
    "axes[0].imshow(test_img.cpu().view(28, 28), cmap='gray')\n",
    "axes[0].set_title('Original Image')\n",
    "axes[1].imshow(output.view(28, 28), cmap='gray')\n",
    "axes[1].set_title('Reconstructed Image')\n",
    "matplotlib_pyplot.tight_layout()\n",
    "matplotlib_pyplot.show()"
   ],
   "id": "af19ee452dd06ac1",
   "outputs": [],
   "execution_count": null
  }
 ],
 "metadata": {
  "kernelspec": {
   "display_name": "Python 3",
   "language": "python",
   "name": "python3"
  },
  "language_info": {
   "codemirror_mode": {
    "name": "ipython",
    "version": 2
   },
   "file_extension": ".py",
   "mimetype": "text/x-python",
   "name": "python",
   "nbconvert_exporter": "python",
   "pygments_lexer": "ipython2",
   "version": "2.7.6"
  }
 },
 "nbformat": 4,
 "nbformat_minor": 5
}
