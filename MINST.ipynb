{
 "cells": [
  {
   "cell_type": "code",
   "id": "initial_id",
   "metadata": {
    "collapsed": true
   },
   "source": [
    ""
   ],
   "outputs": [],
   "execution_count": null
  },
  {
   "metadata": {},
   "cell_type": "code",
   "source": [
    "import matplotlib.pyplot as matplotlib_pyplot\n",
    "import numpy as numpy\n",
    "import umap as umap\n",
    "import torch as torch\n",
    "import torch.nn as torch_nn\n",
    "import torch.optim as torch_optim\n",
    "import torch.utils.data as torch_utils_data\n",
    "import torchvision as torchvision\n",
    "import scanpy as scanpy\n",
    "import sklearn.cluster as sklearn_cluster\n",
    "\n",
    "torch.manual_seed(42)\n",
    "device = torch.device(\"cuda\" if torch.cuda.is_available() else \"cpu\")"
   ],
   "id": "e02efce5c522955",
   "outputs": [],
   "execution_count": null
  },
  {
   "metadata": {},
   "cell_type": "code",
   "source": [
    "class Autoencoder(torch_nn.Module):\n",
    "    def __init__(self):\n",
    "        super(Autoencoder, self).__init__()\n",
    "        self.encoder = torch_nn.Sequential(\n",
    "            torch_nn.Linear(784, 128),\n",
    "            torch_nn.ReLU(),\n",
    "            torch_nn.Linear(128, 64),\n",
    "            torch_nn.ReLU(),\n",
    "            torch_nn.Linear(64, 12),\n",
    "            torch_nn.ReLU(),\n",
    "            torch_nn.Linear(12, 3)\n",
    "        )\n",
    "        self.decoder = torch_nn.Sequential(\n",
    "            torch_nn.Linear(3, 12),\n",
    "            torch_nn.ReLU(),\n",
    "            torch_nn.Linear(12, 64),\n",
    "            torch_nn.ReLU(),\n",
    "            torch_nn.Linear(64, 128),\n",
    "            torch_nn.ReLU(),\n",
    "            torch_nn.Linear(128, 784),\n",
    "            torch_nn.Sigmoid()\n",
    "        )\n",
    "\n",
    "    def forward(self, x):\n",
    "        encoded = self.encoder(x)\n",
    "        decoded = self.decoder(encoded)\n",
    "        return encoded, decoded"
   ],
   "id": "f35ab8772779ac52",
   "outputs": [],
   "execution_count": null
  },
  {
   "metadata": {},
   "cell_type": "code",
   "source": [
    "latent_spaces = {}\n",
    "all_labels = {}\n",
    "losses = []\n",
    "\n",
    "# Load and preprocess the MNIST dataset\n",
    "transform = torchvision.transforms.Compose([torchvision.transforms.ToTensor()])\n",
    "train_dataset = torchvision.datasets.MNIST(root='./data', train=True, download=True, transform=transform)\n",
    "train_loader = torch.utils.data.DataLoader(train_dataset, batch_size=128, shuffle=True)\n",
    "\n",
    "# Initialize the model, loss function, and optimizer\n",
    "model = Autoencoder().to(device)\n",
    "criterion = torch_nn.MSELoss()\n",
    "optimizer = torch_optim.Adam(model.parameters())\n",
    "\n",
    "# Training loop\n",
    "num_epochs = 125 + 1\n",
    "save_every = 25\n",
    "for epoch in range(num_epochs):\n",
    "    epoch_loss = 0\n",
    "    latent_space = []\n",
    "    labels = []\n",
    "    for data in train_loader:\n",
    "        img, label = data\n",
    "        img = img.view(img.size(0), -1).to(device)\n",
    "\n",
    "        encoded, output = model(img)\n",
    "        loss = criterion(output, img)\n",
    "\n",
    "        optimizer.zero_grad()\n",
    "        loss.backward()\n",
    "        optimizer.step()\n",
    "        \n",
    "        epoch_loss += loss.item()\n",
    "        \n",
    "        # Store latent representations and labels\n",
    "        if epoch % save_every == 0:\n",
    "            latent_space.append(encoded.detach().cpu().numpy())\n",
    "            labels.extend(label.numpy())\n",
    "\n",
    "        \n",
    "    if epoch % save_every == 0:\n",
    "        latent_spaces[epoch] = numpy.concatenate(latent_space, axis=0)\n",
    "        all_labels[epoch] = labels\n",
    "\n",
    "    avg_loss = epoch_loss / len(train_loader)\n",
    "    losses.append(avg_loss)\n",
    "    print(f'Epoch [{epoch + 1}/{num_epochs}], Loss: {loss.item():.4f}')"
   ],
   "id": "686bb9cff70c83d6",
   "outputs": [],
   "execution_count": null
  },
  {
   "metadata": {},
   "cell_type": "code",
   "source": [
    "# Test the autoencoder\n",
    "model.eval()\n",
    "with torch.no_grad():\n",
    "    test_dataset = torchvision.datasets.MNIST(root='./data', train=False, transform=transform)\n",
    "    test_img = test_dataset[0][0].view(-1, 28 * 28).to(device)\n",
    "    _, output = model(test_img)\n",
    "    output.cpu()"
   ],
   "id": "525fa12a94d028a7",
   "outputs": [],
   "execution_count": null
  },
  {
   "metadata": {},
   "cell_type": "code",
   "source": [
    "test_image_result = test_img.cpu().view(28, 28)\n",
    "output_image_result = output.view(28, 28)"
   ],
   "id": "ad9bd6dac21c8e53",
   "outputs": [],
   "execution_count": null
  },
  {
   "metadata": {},
   "cell_type": "code",
   "source": [
    "def display_umap(labels, latent_space):\n",
    "    reducer = umap.UMAP()\n",
    "    embedding = reducer.fit_transform(latent_space)\n",
    "    \n",
    "    matplotlib_pyplot.figure(figsize=(12, 10))\n",
    "    scatter = matplotlib_pyplot.scatter(embedding[:, 0], embedding[:, 1], c=labels, cmap='tab10')\n",
    "    matplotlib_pyplot.colorbar(scatter)\n",
    "    matplotlib_pyplot.title('UMAP projection of the latent space')"
   ],
   "id": "9f26658903ece784",
   "outputs": [],
   "execution_count": null
  },
  {
   "metadata": {},
   "cell_type": "code",
   "source": [
    "for (_, labels), (_, space) in zip(all_labels.items(), latent_spaces.items()):\n",
    "    display_umap(labels, space)"
   ],
   "id": "6cbb80284c05c6c0",
   "outputs": [],
   "execution_count": null
  }
 ],
 "metadata": {
  "kernelspec": {
   "display_name": "Python 3",
   "language": "python",
   "name": "python3"
  },
  "language_info": {
   "codemirror_mode": {
    "name": "ipython",
    "version": 2
   },
   "file_extension": ".py",
   "mimetype": "text/x-python",
   "name": "python",
   "nbconvert_exporter": "python",
   "pygments_lexer": "ipython2",
   "version": "2.7.6"
  }
 },
 "nbformat": 4,
 "nbformat_minor": 5
}
